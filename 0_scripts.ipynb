{
 "cells": [
  {
   "cell_type": "code",
   "execution_count": null,
   "metadata": {},
   "outputs": [],
   "source": [
    "# 新建文章 - Create a new post\n",
    "!hexo new post 2"
   ]
  },
  {
   "cell_type": "code",
   "execution_count": null,
   "metadata": {},
   "outputs": [],
   "source": [
    "# 新建页面 - Create a new page\n",
    "!hexo new page title"
   ]
  },
  {
   "cell_type": "code",
   "execution_count": null,
   "metadata": {},
   "outputs": [],
   "source": [
    "# 清除静态文件 - Clean static files\n",
    "!hexo clean"
   ]
  },
  {
   "cell_type": "code",
   "execution_count": null,
   "metadata": {},
   "outputs": [],
   "source": [
    "# 生成静态文件 - Generate static files\n",
    "!hexo generate"
   ]
  },
  {
   "cell_type": "code",
   "execution_count": null,
   "metadata": {},
   "outputs": [],
   "source": [
    "# 本地预览 - Start the server and preview your site\n",
    "import webbrowser\n",
    "import subprocess\n",
    "import psutil\n",
    "import time\n",
    "\n",
    "\n",
    "def kill_process_on_port(port):\n",
    "    for proc in psutil.process_iter(['pid', 'name', 'connections']):\n",
    "        try:\n",
    "            for conn in proc.info['connections']:\n",
    "                if conn.laddr.port == port:\n",
    "                    proc.kill()\n",
    "                    # print(f'Process {proc.info[\"name\"]} {proc.pid} has been terminated.')\n",
    "        except (psutil.NoSuchProcess, psutil.AccessDenied):\n",
    "            continue\n",
    "\n",
    "\n",
    "webbrowser.open('http://localhost:4000', new=1)\n",
    "process = subprocess.Popen('hexo server', shell=True)\n",
    "try:\n",
    "    while True:\n",
    "        time.sleep(3)\n",
    "except KeyboardInterrupt:\n",
    "    kill_process_on_port(4000)\n"
   ]
  },
  {
   "cell_type": "code",
   "execution_count": 146,
   "metadata": {},
   "outputs": [
    {
     "name": "stderr",
     "output_type": "stream",
     "text": [
      "warning: in the working copy of '_bridge.yml', LF will be replaced by CRLF the next time Git touches it\n",
      "warning: in the working copy of 'package-lock.json', LF will be replaced by CRLF the next time Git touches it\n",
      "warning: in the working copy of 'package.json', LF will be replaced by CRLF the next time Git touches it\n",
      "warning: in the working copy of 'public/archives/2024/04/index.html', LF will be replaced by CRLF the next time Git touches it\n",
      "warning: in the working copy of 'public/archives/2024/index.html', LF will be replaced by CRLF the next time Git touches it\n",
      "warning: in the working copy of 'public/archives/index.html', LF will be replaced by CRLF the next time Git touches it\n",
      "warning: in the working copy of 'public/css/main.css', LF will be replaced by CRLF the next time Git touches it\n",
      "warning: in the working copy of 'public/css/noscript.css', LF will be replaced by CRLF the next time Git touches it\n",
      "warning: in the working copy of 'public/images/favicon-50.svg', LF will be replaced by CRLF the next time Git touches it\n",
      "warning: in the working copy of 'public/index.html', LF will be replaced by CRLF the next time Git touches it\n",
      "warning: in the working copy of 'public/js/bookmark.js', LF will be replaced by CRLF the next time Git touches it\n",
      "warning: in the working copy of 'public/js/comments-buttons.js', LF will be replaced by CRLF the next time Git touches it\n",
      "warning: in the working copy of 'public/js/comments.js', LF will be replaced by CRLF the next time Git touches it\n",
      "warning: in the working copy of 'public/js/config.js', LF will be replaced by CRLF the next time Git touches it\n",
      "warning: in the working copy of 'public/js/motion.js', LF will be replaced by CRLF the next time Git touches it\n",
      "warning: in the working copy of 'public/js/next-boot.js', LF will be replaced by CRLF the next time Git touches it\n",
      "warning: in the working copy of 'public/js/pjax.js', LF will be replaced by CRLF the next time Git touches it\n",
      "warning: in the working copy of 'public/js/schedule.js', LF will be replaced by CRLF the next time Git touches it\n",
      "warning: in the working copy of 'public/js/schemes/muse.js', LF will be replaced by CRLF the next time Git touches it\n",
      "warning: in the working copy of 'public/js/third-party/addtoany.js', LF will be replaced by CRLF the next time Git touches it\n",
      "warning: in the working copy of 'public/js/third-party/analytics/baidu-analytics.js', LF will be replaced by CRLF the next time Git touches it\n",
      "warning: in the working copy of 'public/js/third-party/analytics/google-analytics.js', LF will be replaced by CRLF the next time Git touches it\n",
      "warning: in the working copy of 'public/js/third-party/analytics/growingio.js', LF will be replaced by CRLF the next time Git touches it\n",
      "warning: in the working copy of 'public/js/third-party/analytics/matomo.js', LF will be replaced by CRLF the next time Git touches it\n",
      "warning: in the working copy of 'public/js/third-party/chat/chatra.js', LF will be replaced by CRLF the next time Git touches it\n",
      "warning: in the working copy of 'public/js/third-party/chat/tidio.js', LF will be replaced by CRLF the next time Git touches it\n",
      "warning: in the working copy of 'public/js/third-party/comments/changyan.js', LF will be replaced by CRLF the next time Git touches it\n",
      "warning: in the working copy of 'public/js/third-party/comments/disqus.js', LF will be replaced by CRLF the next time Git touches it\n",
      "warning: in the working copy of 'public/js/third-party/comments/disqusjs.js', LF will be replaced by CRLF the next time Git touches it\n",
      "warning: in the working copy of 'public/js/third-party/comments/gitalk.js', LF will be replaced by CRLF the next time Git touches it\n",
      "warning: in the working copy of 'public/js/third-party/comments/isso.js', LF will be replaced by CRLF the next time Git touches it\n",
      "warning: in the working copy of 'public/js/third-party/comments/livere.js', LF will be replaced by CRLF the next time Git touches it\n",
      "warning: in the working copy of 'public/js/third-party/comments/utterances.js', LF will be replaced by CRLF the next time Git touches it\n",
      "warning: in the working copy of 'public/js/third-party/fancybox.js', LF will be replaced by CRLF the next time Git touches it\n",
      "warning: in the working copy of 'public/js/third-party/math/katex.js', LF will be replaced by CRLF the next time Git touches it\n",
      "warning: in the working copy of 'public/js/third-party/math/mathjax.js', LF will be replaced by CRLF the next time Git touches it\n",
      "warning: in the working copy of 'public/js/third-party/pace.js', LF will be replaced by CRLF the next time Git touches it\n",
      "warning: in the working copy of 'public/js/third-party/quicklink.js', LF will be replaced by CRLF the next time Git touches it\n",
      "warning: in the working copy of 'public/js/third-party/search/algolia-search.js', LF will be replaced by CRLF the next time Git touches it\n",
      "warning: in the working copy of 'public/js/third-party/search/local-search.js', LF will be replaced by CRLF the next time Git touches it\n",
      "warning: in the working copy of 'public/js/third-party/statistics/firestore.js', LF will be replaced by CRLF the next time Git touches it\n",
      "warning: in the working copy of 'public/js/third-party/statistics/lean-analytics.js', LF will be replaced by CRLF the next time Git touches it\n",
      "warning: in the working copy of 'public/js/third-party/tags/mermaid.js', LF will be replaced by CRLF the next time Git touches it\n",
      "warning: in the working copy of 'public/js/third-party/tags/pdf.js', LF will be replaced by CRLF the next time Git touches it\n",
      "warning: in the working copy of 'public/js/third-party/tags/wavedrom.js', LF will be replaced by CRLF the next time Git touches it\n",
      "warning: in the working copy of 'public/js/utils.js', LF will be replaced by CRLF the next time Git touches it\n",
      "warning: in the working copy of 'public/search.xml', LF will be replaced by CRLF the next time Git touches it\n",
      "warning: in the working copy of '0_scripts.ipynb', LF will be replaced by CRLF the next time Git touches it\n",
      "warning: in the working copy of 'public/2024/04/30/1.html', LF will be replaced by CRLF the next time Git touches it\n",
      "warning: in the working copy of 'public/2024/04/30/2.html', LF will be replaced by CRLF the next time Git touches it\n",
      "warning: in the working copy of 'public/about/index.html', LF will be replaced by CRLF the next time Git touches it\n",
      "warning: in the working copy of 'public/tags/test/index.html', LF will be replaced by CRLF the next time Git touches it\n",
      "warning: in the working copy of 'source/_posts/1.md', LF will be replaced by CRLF the next time Git touches it\n",
      "warning: in the working copy of 'source/_posts/2.md', LF will be replaced by CRLF the next time Git touches it\n",
      "warning: in the working copy of 'source/about/index.md', LF will be replaced by CRLF the next time Git touches it\n"
     ]
    },
    {
     "name": "stdout",
     "output_type": "stream",
     "text": [
      "\u001b[32mINFO \u001b[39m Validating config\n",
      "\u001b[32mINFO \u001b[39m Deploying: \u001b[35mgit\u001b[39m\n",
      "\u001b[32mINFO \u001b[39m Clearing .deploy_git folder...\n",
      "\u001b[32mINFO \u001b[39m Copying files from public folder...\n",
      "\u001b[32mINFO \u001b[39m Copying files from extend dirs...\n",
      "On branch master\n",
      "nothing to commit, working tree clean\n",
      "branch 'master' set up to track 'https://github.com/Tennisatw/blog/main'.\n",
      "\u001b[32mINFO \u001b[39m Deploy done: \u001b[35mgit\u001b[39m\n"
     ]
    },
    {
     "name": "stderr",
     "output_type": "stream",
     "text": [
      "warning: in the working copy of '2024/04/30/1.html', LF will be replaced by CRLF the next time Git touches it\n",
      "warning: in the working copy of '2024/04/30/2.html', LF will be replaced by CRLF the next time Git touches it\n",
      "warning: in the working copy of 'about/index.html', LF will be replaced by CRLF the next time Git touches it\n",
      "warning: in the working copy of 'archives/2024/04/index.html', LF will be replaced by CRLF the next time Git touches it\n",
      "warning: in the working copy of 'archives/2024/index.html', LF will be replaced by CRLF the next time Git touches it\n",
      "warning: in the working copy of 'archives/index.html', LF will be replaced by CRLF the next time Git touches it\n",
      "warning: in the working copy of 'css/main.css', LF will be replaced by CRLF the next time Git touches it\n",
      "warning: in the working copy of 'css/noscript.css', LF will be replaced by CRLF the next time Git touches it\n",
      "warning: in the working copy of 'images/favicon-50.svg', LF will be replaced by CRLF the next time Git touches it\n",
      "warning: in the working copy of 'index.html', LF will be replaced by CRLF the next time Git touches it\n",
      "warning: in the working copy of 'js/bookmark.js', LF will be replaced by CRLF the next time Git touches it\n",
      "warning: in the working copy of 'js/comments-buttons.js', LF will be replaced by CRLF the next time Git touches it\n",
      "warning: in the working copy of 'js/comments.js', LF will be replaced by CRLF the next time Git touches it\n",
      "warning: in the working copy of 'js/config.js', LF will be replaced by CRLF the next time Git touches it\n",
      "warning: in the working copy of 'js/motion.js', LF will be replaced by CRLF the next time Git touches it\n",
      "warning: in the working copy of 'js/next-boot.js', LF will be replaced by CRLF the next time Git touches it\n",
      "warning: in the working copy of 'js/pjax.js', LF will be replaced by CRLF the next time Git touches it\n",
      "warning: in the working copy of 'js/schedule.js', LF will be replaced by CRLF the next time Git touches it\n",
      "warning: in the working copy of 'js/schemes/muse.js', LF will be replaced by CRLF the next time Git touches it\n",
      "warning: in the working copy of 'js/third-party/addtoany.js', LF will be replaced by CRLF the next time Git touches it\n",
      "warning: in the working copy of 'js/third-party/analytics/baidu-analytics.js', LF will be replaced by CRLF the next time Git touches it\n",
      "warning: in the working copy of 'js/third-party/analytics/google-analytics.js', LF will be replaced by CRLF the next time Git touches it\n",
      "warning: in the working copy of 'js/third-party/analytics/growingio.js', LF will be replaced by CRLF the next time Git touches it\n",
      "warning: in the working copy of 'js/third-party/analytics/matomo.js', LF will be replaced by CRLF the next time Git touches it\n",
      "warning: in the working copy of 'js/third-party/chat/chatra.js', LF will be replaced by CRLF the next time Git touches it\n",
      "warning: in the working copy of 'js/third-party/chat/tidio.js', LF will be replaced by CRLF the next time Git touches it\n",
      "warning: in the working copy of 'js/third-party/comments/changyan.js', LF will be replaced by CRLF the next time Git touches it\n",
      "warning: in the working copy of 'js/third-party/comments/disqus.js', LF will be replaced by CRLF the next time Git touches it\n",
      "warning: in the working copy of 'js/third-party/comments/disqusjs.js', LF will be replaced by CRLF the next time Git touches it\n",
      "warning: in the working copy of 'js/third-party/comments/gitalk.js', LF will be replaced by CRLF the next time Git touches it\n",
      "warning: in the working copy of 'js/third-party/comments/isso.js', LF will be replaced by CRLF the next time Git touches it\n",
      "warning: in the working copy of 'js/third-party/comments/livere.js', LF will be replaced by CRLF the next time Git touches it\n",
      "warning: in the working copy of 'js/third-party/comments/utterances.js', LF will be replaced by CRLF the next time Git touches it\n",
      "warning: in the working copy of 'js/third-party/fancybox.js', LF will be replaced by CRLF the next time Git touches it\n",
      "warning: in the working copy of 'js/third-party/math/katex.js', LF will be replaced by CRLF the next time Git touches it\n",
      "warning: in the working copy of 'js/third-party/math/mathjax.js', LF will be replaced by CRLF the next time Git touches it\n",
      "warning: in the working copy of 'js/third-party/pace.js', LF will be replaced by CRLF the next time Git touches it\n",
      "warning: in the working copy of 'js/third-party/quicklink.js', LF will be replaced by CRLF the next time Git touches it\n",
      "warning: in the working copy of 'js/third-party/search/algolia-search.js', LF will be replaced by CRLF the next time Git touches it\n",
      "warning: in the working copy of 'js/third-party/search/local-search.js', LF will be replaced by CRLF the next time Git touches it\n",
      "warning: in the working copy of 'js/third-party/statistics/firestore.js', LF will be replaced by CRLF the next time Git touches it\n",
      "warning: in the working copy of 'js/third-party/statistics/lean-analytics.js', LF will be replaced by CRLF the next time Git touches it\n",
      "warning: in the working copy of 'js/third-party/tags/mermaid.js', LF will be replaced by CRLF the next time Git touches it\n",
      "warning: in the working copy of 'js/third-party/tags/pdf.js', LF will be replaced by CRLF the next time Git touches it\n",
      "warning: in the working copy of 'js/third-party/tags/wavedrom.js', LF will be replaced by CRLF the next time Git touches it\n",
      "warning: in the working copy of 'js/utils.js', LF will be replaced by CRLF the next time Git touches it\n",
      "warning: in the working copy of 'search.xml', LF will be replaced by CRLF the next time Git touches it\n",
      "warning: in the working copy of 'tags/test/index.html', LF will be replaced by CRLF the next time Git touches it\n",
      "Everything up-to-date\n"
     ]
    }
   ],
   "source": [
    "# 部署到远程 - Deploy to remote sites\n",
    "!git add .\n",
    "!git commit -m \"Update\"\n",
    "!git push\n",
    "!hexo deploy"
   ]
  },
  {
   "cell_type": "code",
   "execution_count": null,
   "metadata": {},
   "outputs": [],
   "source": []
  },
  {
   "cell_type": "code",
   "execution_count": null,
   "metadata": {},
   "outputs": [],
   "source": []
  },
  {
   "cell_type": "code",
   "execution_count": null,
   "metadata": {},
   "outputs": [],
   "source": []
  }
 ],
 "metadata": {
  "kernelspec": {
   "display_name": "base",
   "language": "python",
   "name": "python3"
  },
  "language_info": {
   "codemirror_mode": {
    "name": "ipython",
    "version": 3
   },
   "file_extension": ".py",
   "mimetype": "text/x-python",
   "name": "python",
   "nbconvert_exporter": "python",
   "pygments_lexer": "ipython3",
   "version": "3.11.7"
  }
 },
 "nbformat": 4,
 "nbformat_minor": 2
}
