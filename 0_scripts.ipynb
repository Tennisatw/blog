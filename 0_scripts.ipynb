{
 "cells": [
  {
   "cell_type": "code",
   "execution_count": null,
   "metadata": {},
   "outputs": [],
   "source": [
    "# 新建文章 - Create a new post\n",
    "!hexo new post Broaden-experience"
   ]
  },
  {
   "cell_type": "code",
   "execution_count": null,
   "metadata": {},
   "outputs": [],
   "source": [
    "# 新建页面 - Create a new page\n",
    "!hexo new page pages"
   ]
  },
  {
   "cell_type": "code",
   "execution_count": 1,
   "metadata": {},
   "outputs": [
    {
     "name": "stdout",
     "output_type": "stream",
     "text": [
      "\u001b[32mINFO \u001b[39m Validating config\n",
      "\u001b[32mINFO \u001b[39m Deleted database.\n",
      "\u001b[32mINFO \u001b[39m Deleted public folder.\n"
     ]
    }
   ],
   "source": [
    "# 清除静态文件 - Clean static files\n",
    "!hexo clean"
   ]
  },
  {
   "cell_type": "code",
   "execution_count": 2,
   "metadata": {},
   "outputs": [],
   "source": [
    "# 生成静态文件 - Generate static files\n",
    "!hexo generate"
   ]
  },
  {
   "cell_type": "code",
   "execution_count": null,
   "metadata": {},
   "outputs": [],
   "source": [
    "# 本地预览 - Start the server and preview your site\n",
    "import webbrowser\n",
    "import subprocess\n",
    "import psutil\n",
    "import time\n",
    "\n",
    "\n",
    "def kill_process_on_port(port):\n",
    "    for proc in psutil.process_iter(['pid', 'name', 'connections']):\n",
    "        try:\n",
    "            for conn in proc.info['connections']:\n",
    "                if conn.laddr.port == port:\n",
    "                    proc.kill()\n",
    "        except (psutil.NoSuchProcess, psutil.AccessDenied):\n",
    "            continue\n",
    "\n",
    "process = subprocess.Popen('hexo server', shell=True)\n",
    "webbrowser.open('http://localhost:4000', new=1)\n",
    "\n",
    "try:\n",
    "    while True:\n",
    "        time.sleep(3)\n",
    "except KeyboardInterrupt:\n",
    "    kill_process_on_port(4000)\n"
   ]
  },
  {
   "cell_type": "code",
   "execution_count": null,
   "metadata": {},
   "outputs": [],
   "source": [
    "# 部署到远程 - Deploy to remote sites\n",
    "from datetime import datetime\n",
    "\n",
    "now = datetime.now()\n",
    "current_time = \"Update \" + now.strftime(\"%Y/%m/%d %H:%M:%S\")\n",
    "\n",
    "!git add .\n",
    "!git commit -m \"$current_time\"\n",
    "!git push\n",
    "# !git push origin main --force"
   ]
  }
 ],
 "metadata": {
  "kernelspec": {
   "display_name": "base",
   "language": "python",
   "name": "python3"
  },
  "language_info": {
   "codemirror_mode": {
    "name": "ipython",
    "version": 3
   },
   "file_extension": ".py",
   "mimetype": "text/x-python",
   "name": "python",
   "nbconvert_exporter": "python",
   "pygments_lexer": "ipython3",
   "version": "3.11.7"
  }
 },
 "nbformat": 4,
 "nbformat_minor": 2
}
