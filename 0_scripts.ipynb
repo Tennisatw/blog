{
 "cells": [
  {
   "cell_type": "code",
   "execution_count": null,
   "metadata": {},
   "outputs": [],
   "source": [
    "# 新建文章 - Create a new post\n",
    "!hexo new post mdanalysis-bug-fix"
   ]
  },
  {
   "cell_type": "code",
   "execution_count": null,
   "metadata": {},
   "outputs": [],
   "source": [
    "# 新建页面 - Create a new page\n",
    "!hexo new page pages"
   ]
  },
  {
   "cell_type": "code",
   "execution_count": 61,
   "metadata": {},
   "outputs": [
    {
     "name": "stdout",
     "output_type": "stream",
     "text": [
      "\u001b[32mINFO \u001b[39m Validating config\n",
      "\u001b[32mINFO \u001b[39m Deleted database.\n"
     ]
    }
   ],
   "source": [
    "# 清除静态文件 - Clean static files\n",
    "!hexo clean"
   ]
  },
  {
   "cell_type": "code",
   "execution_count": 62,
   "metadata": {},
   "outputs": [
    {
     "name": "stdout",
     "output_type": "stream",
     "text": [
      "\u001b[32mINFO \u001b[39m Validating config\n",
      "\u001b[32mINFO \u001b[39m ==================================\n",
      "  ███╗   ██╗███████╗██╗  ██╗████████╗\n",
      "  ████╗  ██║██╔════╝╚██╗██╔╝╚══██╔══╝\n",
      "  ██╔██╗ ██║█████╗   ╚███╔╝    ██║\n",
      "  ██║╚██╗██║██╔══╝   ██╔██╗    ██║\n",
      "  ██║ ╚████║███████╗██╔╝ ██╗   ██║\n",
      "  ╚═╝  ╚═══╝╚══════╝╚═╝  ╚═╝   ╚═╝\n",
      "========================================\n",
      "NexT version 8.19.2\n",
      "Documentation: https://theme-next.js.org\n",
      "========================================\n",
      "\u001b[32mINFO \u001b[39m Start processing\n",
      "\u001b[32mINFO \u001b[39m Files loaded in \u001b[36m12 s\u001b[39m\n",
      "\u001b[32mINFO \u001b[39m Generated: \u001b[35msearch.xml\u001b[39m\n",
      "\u001b[32mINFO \u001b[39m Generated: \u001b[35msitemap.xml\u001b[39m\n",
      "\u001b[32mINFO \u001b[39m Generated: \u001b[35mcategories/index.html\u001b[39m\n",
      "\u001b[32mINFO \u001b[39m Generated: \u001b[35msitemap.txt\u001b[39m\n",
      "\u001b[32mINFO \u001b[39m Generated: \u001b[35mpages/index.html\u001b[39m\n",
      "\u001b[32mINFO \u001b[39m Generated: \u001b[35mtags/index.html\u001b[39m\n",
      "\u001b[32mINFO \u001b[39m Generated: \u001b[35mrss2.xml\u001b[39m\n",
      "\u001b[32mINFO \u001b[39m Generated: \u001b[35matom.xml\u001b[39m\n",
      "\u001b[32mINFO \u001b[39m Generated: \u001b[35mcategories/元键政-meta-political-discussion/index.html\u001b[39m\n",
      "\u001b[32mINFO \u001b[39m Generated: \u001b[35mcategories/sd-webui/index.html\u001b[39