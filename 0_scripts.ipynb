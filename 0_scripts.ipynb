{
 "cells": [
  {
   "cell_type": "code",
   "execution_count": 60,
   "metadata": {},
   "outputs": [
    {
     "name": "stdout",
     "output_type": "stream",
     "text": [
      "\u001b[32mINFO \u001b[39m Validating config\n",
      "\u001b[32mINFO \u001b[39m Created: \u001b[35md:\\work\\Program\\blog\\source\\_posts\\2024-06-05_accident-fatalities.md\u001b[39m\n"
     ]
    }
   ],
   "source": [
    "# 新建文章 - Create a new post\n",
    "!hexo new post accident-fatalities"
   ]
  },
  {
   "cell_type": "code",
   "execution_count": null,
   "metadata": {},
   "outputs": [],
   "source": [
    "# 新建页面 - Create a new page\n",
    "!hexo new page title"
   ]
  },
  {
   "cell_type": "code",
   "execution_count": 57,
   "metadata": {},
   "outputs": [
    {
     "name": "stdout",
     "output_type": "stream",
     "text": [
      "\u001b[32mINFO \u001b[39m Validating config\n",
      "\u001b[32mINFO \u001b[39m Deleted database.\n",
      "\u001b[32mINFO \u001b[39m Deleted public folder.\n"
     ]
    },
    {
     "name": "stderr",
     "output_type": "stream",
     "text": [
      "\u001b[41mFATAL\u001b[49m Something's wrong. Maybe you can find the solution here: \u001b[4mhttps://hexo.io/docs/troubleshooting.html\u001b[24m\n",
      "\u001b[33mTypeError [ERR_INVALID_ARG_TYPE]: The \"path\" argument must be of type string or an instance of Buffer or URL. Received null\n",
      "    at Object.openSync (node:fs:593:10)\n",
      "    at Object.readFileSync (node:fs:469:35)\n",
      "    at Hexo.<anonymous> (d:\\work\\Program\\blog\\scripts\\increment_id.js:34:26)\n",
      "    at Hexo.tryCatcher (d:\\work\\Program\\blog\\node_modules\\bluebird\\js\\release\\util.js:16:23)\n",
      "    at Hexo.<anonymous> (d:\\work\\Program\\blog\\node_modules\\bluebird\\js\\release\\method.js:15:34)\n",
      "    at d:\\work\\Program\\blog\\node_modules\\hexo\\dist\\extend\\filter.js:58:67\n",
      "    at tryCatcher (d:\\work\\Program\\blog\\node_modules\\bluebird\\js\\release\\util.js:16:23)\n",
      "    at Object.gotValue (d:\\work\\Program\\blog\\node_modules\\bluebird\\js\\release\\reduce.js:166:18)\n",
      "    at Object.gotAccum (d:\\work\\Program\\blog\\node_modules\\bluebird\\js\\release\\reduce.js:155:25)\n",
      "    at Object.tryCatcher (d:\\work\\Program\\blog\\node_modules\\bluebird\\js\\release\\util.js:16:23)\n",
      "    at Promise._settlePromiseFromHandler (d:\\work\\Program\\blog\\node_modules\\bluebird\\js\\release\\promise.js:547:31)\n",
      "    at Promise._settlePromise (d:\\work\\Program\\blog\\node_modules\\bluebird\\js\\release\\promise.js:604:18)\n",
      "    at Promise._settlePromise0 (d:\\work\\Program\\blog\\node_modules\\bluebird\\js\\release\\promise.js:649:10)\n",
      "    at Promise._settlePromises (d:\\work\\Program\\blog\\node_modules\\bluebird\\js\\release\\promise.js:729:18)\n",
      "    at _drainQueueStep (d:\\work\\Program\\blog\\node_modules\\bluebird\\js\\release\\async.js:93:12)\n",
      "    at _drainQueue (d:\\work\\Program\\blog\\node_modules\\bluebird\\js\\release\\async.js:86:9)\n",
      "    at Async._drainQueues (d:\\work\\Program\\blog\\node_modules\\bluebird\\js\\release\\async.js:102:5)\n",
      "    at Async.drainQueues [as _onImmediate] (d:\\work\\Program\\blog\\node_modules\\bluebird\\js\\release\\async.js:15:14)\n",
      "    at process.processImmediate (node:internal/timers:476:21)\u001b[39m\n",
      "\u001b[41mFATAL\u001b[49m \n",
      "\u001b[33mTypeError [ERR_INVALID_ARG_TYPE]: The \"path\" argument must be of type string or an instance of Buffer or URL. Received null\n",
      "    at Object.openSync (node:fs:593:10)\n",
      "    at Object.readFileSync (node:fs:469:35)\n",
      "    at Hexo.<anonymous> (d:\\work\\Program\\blog\\scripts\\increment_id.js:34:26)\n",
      "    at Hexo.tryCatcher (d:\\work\\Program\\blog\\node_modules\\bluebird\\js\\release\\util.js:16:23)\n",
      "    at Hexo.<anonymous> (d:\\work\\Program\\blog\\node_modules\\bluebird\\js\\release\\method.js:15:34)\n",
      "    at d:\\work\\Program\\blog\\node_modules\\hexo\\dist\\extend\\filter.js:58:67\n",
      "    at tryCatcher (d:\\work\\Program\\blog\\node_modules\\bluebird\\js\\release\\util.js:16:23)\n",
      "    at Object.gotValue (d:\\work\\Program\\blog\\node_modules\\bluebird\\js\\release\\reduce.js:166:18)\n",
      "    at Object.gotAccum (d:\\work\\Program\\blog\\node_modules\\bluebird\\js\\release\\reduce.js:155:25)\n",
      "    at Object.tryCatcher (d:\\work\\Program\\blog\\node_modules\\bluebird\\js\\release\\util.js:16:23)\n",
      "    at Promise._settlePromiseFromHandler (d:\\work\\Program\\blog\\node_modules\\bluebird\\js\\release\\promise.js:547:31)\n",
      "    at Promise._settlePromise (d:\\work\\Program\\blog\\node_modules\\bluebird\\js\\release\\promise.js:604:18)\n",
      "    at Promise._settlePromise0 (d:\\work\\Program\\blog\\node_modules\\bluebird\\js\\release\\promise.js:649:10)\n",
      "    at Promise._settlePromises (d:\\work\\Program\\blog\\node_modules\\bluebird\\js\\release\\promise.js:729:18)\n",
      "    at _drainQueueStep (d:\\work\\Program\\blog\\node_modules\\bluebird\\js\\release\\async.js:93:12)\n",
      "    at _drainQueue (d:\\work\\Program\\blog\\node_modules\\bluebird\\js\\release\\async.js:86:9)\n",
      "    at Async._drainQueues (d:\\work\\Program\\blog\\node_modules\\bluebird\\js\\release\\async.js:102:5)\n",
      "    at Async.drainQueues [as _onImmediate] (d:\\work\\Program\\blog\\node_modules\\bluebird\\js\\release\\async.js:15:14)\n",
      "    at process.processImmediate (node:internal/timers:476:21)\u001b[39m\n"
     ]
    }
   ],
   "source": [
    "# 清除静态文件 - Clean static files\n",
    "!hexo clean"
   ]
  },
  {
   "cell_type": "code",
   "execution_count": 61,
   "metadata": {},
   "outputs": [
    {
     "name": "stdout",
     "output_type": "stream",
     "text": [
      "\u001b[32mINFO \u001b[39m Validating config\n",
      "\u001b[32mINFO \u001b[39m ==================================\n",
      "  ███╗   ██╗███████╗██╗  ██╗████████╗\n",
      "  ████╗  ██║██╔════╝╚██╗██╔╝╚══██╔══╝\n",
      "  ██╔██╗ ██║█████╗   ╚███╔╝    ██║\n",
      "  ██║╚██╗██║██╔══╝   ██╔██╗    ██║\n",
      "  ██║ ╚████║███████╗██╔╝ ██╗   ██║\n",
      "  ╚═╝  ╚═══╝╚══════╝╚═╝  ╚═╝   ╚═╝\n",
      "========================================\n",
      "NexT version 8.19.2\n",
      "Documentation: https://theme-next.js.org\n",
      "========================================\n",
      "\u001b[32mINFO \u001b[39m Start processing\n",
      "\u001b[32mINFO \u001b[39m Files loaded in \u001b[36m1.45 s\u001b[39m\n",
      "\u001b[32mINFO \u001b[39m Generated: \u001b[35msearch.xml\u001b[39m\n",
      "\u001b[32mINFO \u001b[39m Generated: \u001b[35marchives/index.html\u001b[39m\n",
      "\u001b[32mINFO \u001b[39m Generated: \u001b[35marchives/2023/04/index.html\u001b[39m\n",
      "\u001b[32mINFO \u001b[39m Generated: \u001b[35marchives/2023/index.html\u001b[39m\n",
      "\u001b[32mINFO \u001b[39m Generated: \u001b[35mabout/index.html\u001b[39m\n",
      "\u001b[32mINFO \u001b[39m Generated: \u001b[35mpost/3/1.png\u001b[39m\n",
      "\u001b[32mINFO \u001b[39m Generated: \u001b[35mabout/images/avatar.png\u001b[39m\n",
      "\u001b[32mINFO \u001b[39m Generated: \u001b[35mindex.html\u001b[39m\n",
      "\u001b[32mINFO \u001b[39m Generated: \u001b[35mpost/5/script.py\u001b[39m\n",
      "\u001b[32mINFO \u001b[39m Generated: \u001b[35mimages/apple-touch-icon-next.png\u001b[39m\n",
      "\u001b[32mINFO \u001b[39m Generated: \u001b[35mpost/4/2.png\u001b[39m\n",
      "\u001b[32mINFO \u001b[39m Generated: \u001b[35mpost/1/index.html\u001b[39m\n",
      "\u001b[32mINFO \u001b[39m Generated: \u001b[35mimages/favicon-16x16-next.png\u001b[39m\n",
      "\u001b[32mINFO \u001b[39m Generated: \u001b[35mimages/avatar.gif\u001b[39m\n",
      "\u001b[32mINFO \u001b[39m Generated: \u001b[35mimages/avatar.png\u001b[39m\n",
      "\u001b[32mINFO \u001b[39m Generated: \u001b[35mpost/4/1.png\u001b[39m\n",
      "\u001b[32mINFO \u001b[39m Generated: \u001b[35mtags/随想-thoughts/index.html\u001b[39m\n",
      "\u001b[32mINFO \u001b[39m Generated: \u001b[35mpost/4/3.png\u001b[39m\n",
      "\u001b[32mINFO \u001b[39m Generated: \u001b[35mimages/favicon-50.png\u001b[39m\n",
      "\u001b[32mINFO \u001b[39m Generated: \u001b[35mpost/5/遇难.xlsx\u001b[39m\n",
      "\u001b[32mINFO \u001b[39m Generated: \u001b[35mimages/logo-algolia-nebula-blue-full.svg\u001b[39m\n",
      "\u001b[32mINFO \u001b[39m Generated: \u001b[35mimages/logo.svg\u001b[39m\n",
      "\u001b[32mINFO \u001b[39m Generated: \u001b[35mimages/favicon-32x32-next.png\u001b[39m\n",
      "\u001b[32mINFO \u001b[39m Generated: \u001b[35mimages/favicon-50.svg\u001b[39m\n",
      "\u001b[32mINFO \u001b[39m Generated: \u001b[35mpost/4/4.png\u001b[39m\n",
      "\u001b[32mINFO \u001b[39m Generated: \u001b[35mimages/favicon-180.png\u001b[39m\n",
      "\u001b[32mINFO \u001b[39m Generated: \u001b[35mpost/2/index.html\u001b[39m\n",
      "\u001b[32mINFO \u001b[39m Generated: \u001b[35mcss/noscript.css\u001b[39m\n",
      "\u001b[32mINFO \u001b[39m Generated: \u001b[35mjs/comments-buttons.js\u001b[39m\n",
      "\u001b[32mINFO \u001b[39m Generated: \u001b[35mjs/schemes/muse.js\u001b[39m\n",
      "\u001b[32mINFO \u001b[39m Generated: \u001b[35mjs/third-party/addtoany.js\u001b[39m\n",
      "\u001b[32mINFO \u001b[39m Generated: \u001b[35mjs/third-party/comments/changyan.js\u001b[39m\n",
      "\u001b[32mINFO \u001b[39m Generated: \u001b[35mjs/third-party/statistics/lean-analytics.js\u001b[39m\n",
      "\u001b[32mINFO \u001b[39m Generated: \u001b[35mjs/third-party/analytics/google-analytics.js\u001b[39m\n",
      "\u001b[32mINFO \u001b[39m Generated: \u001b[35mjs/third-party/chat/chatra.js\u001b[39m\n",
      "\u001b[32mINFO \u001b[39m Generated: \u001b[35mjs/third-party/math/katex.js\u001b[39m\n",
      "\u001b[32mINFO \u001b[39m Generated: \u001b[35mjs/third-party/search/algolia-search.js\u001b[39m\n",
      "\u001b[32mINFO \u001b[39m Generated: \u001b[35mpost/5/index.html\u001b[39m\n",
      "\u001b[32mINFO \u001b[39m Generated: \u001b[35mjs/third-party/tags/pdf.js\u001b[39m\n",
      "\u001b[32mINFO \u001b[39m Generated: \u001b[35mpost/4/index.html\u001b[39m\n",
      "\u001b[32mINFO \u001b[39m Generated: \u001b[35mjs/comments.js\u001b[39m\n",
      "\u001b[32mINFO \u001b[39m Generated: \u001b[35mpost/3/index.html\u001b[39m\n",
      "\u001b[32mINFO \u001b[39m Generated: \u001b[35mjs/config.js\u001b[39m\n",
      "\u001b[32mINFO \u001b[39m Generated: \u001b[35mjs/motion.js\u001b[39m\n",
      "\u001b[32mINFO \u001b[39m Generated: \u001b[35mjs/bookmark.js\u001b[39m\n",
      "\u001b[32mINFO \u001b[39m Generated: \u001b[35mjs/pjax.js\u001b[39m\n",
      "\u001b[32mINFO \u001b[39m Generated: \u001b[35mjs/next-boot.js\u001b[39m\n",
      "\u001b[32mINFO \u001b[39m Generated: \u001b[35mjs/third-party/comments/isso.js\u001b[39m\n",
      "\u001b[32mINFO \u001b[39m Generated: \u001b[35mjs/schedule.js\u001b[39m\n",
      "\u001b[32mINFO \u001b[39m Generated: \u001b[35mjs/third-party/analytics/growingio.js\u001b[39m\n",
      "\u001b[32mINFO \u001b[39m Generated: \u001b[35mjs/third-party/quicklink.js\u001b[39m\n",
      "\u001b[32mINFO \u001b[39m Generated: \u001b[35mjs/third-party/comments/livere.js\u001b[39m\n",
      "\u001b[32mINFO \u001b[39m Generated: \u001b[35mjs/third-party/fancybox.js\u001b[39m\n",
      "\u001b[32mINFO \u001b[39m Generated: \u001b[35mjs/third-party/comments/disqusjs.js\u001b[39m\n",
      "\u001b[32mINFO \u001b[39m Generated: \u001b[35mjs/third-party/analytics/baidu-analytics.js\u001b[39m\n",
      "\u001b[32mINFO \u001b[39m Generated: \u001b[35mjs/third-party/comments/gitalk.js\u001b[39m\n",
      "\u001b[32mINFO \u001b[39m Generated: \u001b[35mjs/third-party/comments/utterances.js\u001b[39m\n",
      "\u001b[32mINFO \u001b[39m Generated: \u001b[35mjs/third-party/comments/disqus.js\u001b[39m\n",
      "\u001b[32mINFO \u001b[39m Generated: \u001b[35mjs/third-party/math/mathjax.js\u001b[39m\n",
      "\u001b[32mINFO \u001b[39m Generated: \u001b[35mjs/third-party/statistics/firestore.js\u001b[39m\n",
      "\u001b[32mINFO \u001b[39m Generated: \u001b[35mjs/third-party/analytics/matomo.js\u001b[39m\n",
      "\u001b[32mINFO \u001b[39m Generated: \u001b[35mjs/third-party/pace.js\u001b[39m\n",
      "\u001b[32mINFO \u001b[39m Generated: \u001b[35mjs/third-party/tags/mermaid.js\u001b[39m\n",
      "\u001b[32mINFO \u001b[39m Generated: \u001b[35mjs/third-party/chat/tidio.js\u001b[39m\n",
      "\u001b[32mINFO \u001b[39m Generated: \u001b[35mcss/main.css\u001b[39m\n",
      "\u001b[32mINFO \u001b[39m Generated: \u001b[35mjs/utils.js\u001b[39m\n",
      "\u001b[32mINFO \u001b[39m Generated: \u001b[35mjs/third-party/tags/wavedrom.js\u001b[39m\n",
      "\u001b[32mINFO \u001b[39m Generated: \u001b[35mjs/third-party/search/local-search.js\u001b[39m\n",
      "\u001b[32mINFO \u001b[39m Generated: \u001b[35mjs/third-party/comments/waline.js\u001b[39m\n",
      "\u001b[32mINFO \u001b[39m 69 files generated in \u001b[36m1.26 s\u001b[39m\n"
     ]
    },
    {
     "name": "stderr",
     "output_type": "stream",
     "text": [
      "\u001b[41mFATAL\u001b[49m Something's wrong. Maybe you can find the solution here: \u001b[4mhttps://hexo.io/docs/troubleshooting.html\u001b[24m\n",
      "\u001b[33mTypeError [ERR_INVALID_ARG_TYPE]: The \"path\" argument must be of type string or an instance of Buffer or URL. Received null\n",
      "    at Object.openSync (node:fs:593:10)\n",
      "    at Object.readFileSync (node:fs:469:35)\n",
      "    at Hexo.<anonymous> (d:\\work\\Program\\blog\\scripts\\increment_id.js:34:26)\n",
      "    at Hexo.tryCatcher (d:\\work\\Program\\blog\\node_modules\\bluebird\\js\\release\\util.js:16:23)\n",
      "    at Hexo.<anonymous> (d:\\work\\Program\\blog\\node_modules\\bluebird\\js\\release\\method.js:15:34)\n",
      "    at d:\\work\\Program\\blog\\node_modules\\hexo\\dist\\extend\\filter.js:58:67\n",
      "    at tryCatcher (d:\\work\\Program\\blog\\node_modules\\bluebird\\js\\release\\util.js:16:23)\n",
      "    at Object.gotValue (d:\\work\\Program\\blog\\node_modules\\bluebird\\js\\release\\reduce.js:166:18)\n",
      "    at Object.gotAccum (d:\\work\\Program\\blog\\node_modules\\bluebird\\js\\release\\reduce.js:155:25)\n",
      "    at Object.tryCatcher (d:\\work\\Program\\blog\\node_modules\\bluebird\\js\\release\\util.js:16:23)\n",
      "    at Promise._settlePromiseFromHandler (d:\\work\\Program\\blog\\node_modules\\bluebird\\js\\release\\promise.js:547:31)\n",
      "    at Promise._settlePromise (d:\\work\\Program\\blog\\node_modules\\bluebird\\js\\release\\promise.js:604:18)\n",
      "    at Promise._settlePromise0 (d:\\work\\Program\\blog\\node_modules\\bluebird\\js\\release\\promise.js:649:10)\n",
      "    at Promise._settlePromises (d:\\work\\Program\\blog\\node_modules\\bluebird\\js\\release\\promise.js:729:18)\n",
      "    at _drainQueueStep (d:\\work\\Program\\blog\\node_modules\\bluebird\\js\\release\\async.js:93:12)\n",
      "    at _drainQueue (d:\\work\\Program\\blog\\node_modules\\bluebird\\js\\release\\async.js:86:9)\n",
      "    at Async._drainQueues (d:\\work\\Program\\blog\\node_modules\\bluebird\\js\\release\\async.js:102:5)\n",
      "    at Async.drainQueues [as _onImmediate] (d:\\work\\Program\\blog\\node_modules\\bluebird\\js\\release\\async.js:15:14)\n",
      "    at process.processImmediate (node:internal/timers:476:21)\u001b[39m\n",
      "\u001b[41mFATAL\u001b[49m \n",
      "\u001b[33mTypeError [ERR_INVALID_ARG_TYPE]: The \"path\" argument must be of type string or an instance of Buffer or URL. Received null\n",
      "    at Object.openSync (node:fs:593:10)\n",
      "    at Object.readFileSync (node:fs:469:35)\n",
      "    at Hexo.<anonymous> (d:\\work\\Program\\blog\\scripts\\increment_id.js:34:26)\n",
      "    at Hexo.tryCatcher (d:\\work\\Program\\blog\\node_modules\\bluebird\\js\\release\\util.js:16:23)\n",
      "    at Hexo.<anonymous> (d:\\work\\Program\\blog\\node_modules\\bluebird\\js\\release\\method.js:15:34)\n",
      "    at d:\\work\\Program\\blog\\node_modules\\hexo\\dist\\extend\\filter.js:58:67\n",
      "    at tryCatcher (d:\\work\\Program\\blog\\node_modules\\bluebird\\js\\release\\util.js:16:23)\n",
      "    at Object.gotValue (d:\\work\\Program\\blog\\node_modules\\bluebird\\js\\release\\reduce.js:166:18)\n",
      "    at Object.gotAccum (d:\\work\\Program\\blog\\node_modules\\bluebird\\js\\release\\reduce.js:155:25)\n",
      "    at Object.tryCatcher (d:\\work\\Program\\blog\\node_modules\\bluebird\\js\\release\\util.js:16:23)\n",
      "    at Promise._settlePromiseFromHandler (d:\\work\\Program\\blog\\node_modules\\bluebird\\js\\release\\promise.js:547:31)\n",
      "    at Promise._settlePromise (d:\\work\\Program\\blog\\node_modules\\bluebird\\js\\release\\promise.js:604:18)\n",
      "    at Promise._settlePromise0 (d:\\work\\Program\\blog\\node_modules\\bluebird\\js\\release\\promise.js:649:10)\n",
      "    at Promise._settlePromises (d:\\work\\Program\\blog\\node_modules\\bluebird\\js\\release\\promise.js:729:18)\n",
      "    at _drainQueueStep (d:\\work\\Program\\blog\\node_modules\\bluebird\\js\\release\\async.js:93:12)\n",
      "    at _drainQueue (d:\\work\\Program\\blog\\node_modules\\bluebird\\js\\release\\async.js:86:9)\n",
      "    at Async._drainQueues (d:\\work\\Program\\blog\\node_modules\\bluebird\\js\\release\\async.js:102:5)\n",
      "    at Async.drainQueues [as _onImmediate] (d:\\work\\Program\\blog\\node_modules\\bluebird\\js\\release\\async.js:15:14)\n",
      "    at process.processImmediate (node:internal/timers:476:21)\u001b[39m\n"
     ]
    }
   ],
   "source": [
    "# 生成静态文件 - Generate static files\n",
    "!hexo generate"
   ]
  },
  {
   "cell_type": "code",
   "execution_count": 58,
   "metadata": {},
   "outputs": [],
   "source": [
    "# 本地预览 - Start the server and preview your site\n",
    "import webbrowser\n",
    "import subprocess\n",
    "import psutil\n",
    "import time\n",
    "\n",
    "\n",
    "def kill_process_on_port(port):\n",
    "    for proc in psutil.process_iter(['pid', 'name', 'connections']):\n",
    "        try:\n",
    "            for conn in proc.info['connections']:\n",
    "                if conn.laddr.port == port:\n",
    "                    proc.kill()\n",
    "                    # print(f'Process {proc.info[\"name\"]} {proc.pid} has been terminated.')\n",
    "        except (psutil.NoSuchProcess, psutil.AccessDenied):\n",
    "            continue\n",
    "\n",
    "\n",
    "webbrowser.open('http://localhost:4000', new=1)\n",
    "process = subprocess.Popen('hexo server', shell=True)\n",
    "try:\n",
    "    while True:\n",
    "        time.sleep(3)\n",
    "except KeyboardInterrupt:\n",
    "    kill_process_on_port(4000)\n"
   ]
  },
  {
   "cell_type": "code",
   "execution_count": null,
   "metadata": {},
   "outputs": [],
   "source": [
    "# 部署到远程 - Deploy to remote sites\n",
    "!git add .\n",
    "!git commit -m \"Update\"\n",
    "!git push\n",
    "# !git push origin main --force"
   ]
  },
  {
   "cell_type": "code",
   "execution_count": null,
   "metadata": {},
   "outputs": [],
   "source": []
  },
  {
   "cell_type": "code",
   "execution_count": null,
   "metadata": {},
   "outputs": [],
   "source": []
  }
 ],
 "metadata": {
  "kernelspec": {
   "display_name": "base",
   "language": "python",
   "name": "python3"
  },
  "language_info": {
   "codemirror_mode": {
    "name": "ipython",
    "version": 3
   },
   "file_extension": ".py",
   "mimetype": "text/x-python",
   "name": "python",
   "nbconvert_exporter": "python",
   "pygments_lexer": "ipython3",
   "version": "3.11.7"
  }
 },
 "nbformat": 4,
 "nbformat_minor": 2
}
