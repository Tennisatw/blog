{
 "cells": [
  {
   "cell_type": "code",
   "execution_count": 131,
   "metadata": {},
   "outputs": [
    {
     "name": "stdout",
     "output_type": "stream",
     "text": [
      "\u001b[32mINFO \u001b[39m Validating config\n",
      "\u001b[32mINFO \u001b[39m Created: \u001b[35md:\\work\\Program\\blog\\source\\_posts\\2024-06-07_bayesian.md\u001b[39m\n"
     ]
    }
   ],
   "source": [
    "# 新建文章 - Create a new post\n",
    "!hexo new post Bayesian"
   ]
  },
  {
   "cell_type": "code",
   "execution_count": null,
   "metadata": {},
   "outputs": [],
   "source": [
    "# 新建页面 - Create a new page\n",
    "!hexo new page categories"
   ]
  },
  {
   "cell_type": "code",
   "execution_count": null,
   "metadata": {},
   "outputs": [],
   "source": [
    "# 清除静态文件 - Clean static files\n",
    "!hexo clean"
   ]
  },
  {
   "cell_type": "code",
   "execution_count": 117,
   "metadata": {},
   "outputs": [
    {
     "name": "stdout",
     "output_type": "stream",
     "text": [
      "\u001b[32mINFO \u001b[39m Validating config\n",
      "\u001b[32mINFO \u001b[39m ==================================\n",
      "  ███╗   ██╗███████╗██╗  ██╗████████╗\n",
      "  ████╗  ██║██╔════╝╚██╗██╔╝╚══██╔══╝\n",
      "  ██╔██╗ ██║█████╗   ╚███╔╝    ██║\n",
      "  ██║╚██╗██║██╔══╝   ██╔██╗    ██║\n",
      "  ██║ ╚████║███████╗██╔╝ ██╗   ██║\n",
      "  ╚═╝  ╚═══╝╚══════╝╚═╝  ╚═╝   ╚═╝\n",
      "========================================\n",
      "NexT version 8.19.2\n",
      "Documentation: https://theme-next.js.org\n",
      "========================================\n",
      "\u001b[32mINFO \u001b[39m Start processing\n",
      "\u001b[32mINFO \u001b[39m Files loaded in \u001b[36m1.67 s\u001b[39m\n",
      "\u001b[32mINFO \u001b[39m Generated: \u001b[35marchives/page/5/index.html\u001b[39m\n",
      "\u001b[32mINFO \u001b[39m Generated: \u001b[35mpage/5/index.html\u001b[39m\n",
      "\u001b[32mINFO \u001b[39m Generated: \u001b[35mpost/23/index.html\u001b[39m\n",
      "\u001b[32mINFO \u001b[39m Generated: \u001b[35msearch.xml\u001b[39m\n",
      "\u001b[32mINFO \u001b[39m Generated: \u001b[35marchives/2023/page/3/index.html\u001b[39m\n",
      "\u001b[32mINFO \u001b[39m Generated: \u001b[35marchives/index.html\u001b[39m\n",
      "\u001b[32mINFO \u001b[39m Generated: \u001b[35mtags/推荐-recommendation/index.html\u001b[39m\n",
      "\u001b[32mINFO \u001b[39m Generated: \u001b[35marchives/2023/09/index.html\u001b[39m\n",
      "\u001b[32mINFO \u001b[39m Generated: \u001b[35marchives/page/2/index.html\u001b[39m\n",
      "\u001b[32mINFO \u001b[39m Generated: \u001b[35marchives/page/3/index.html\u001b[39m\n",
      "\u001b[32mINFO \u001b[39m Generated: \u001b[35mpost/22/index.html\u001b[39m\n",
      "\u001b[32mINFO \u001b[39m Generated: \u001b[35marchives/page/4/index.html\u001b[39m\n",
      "\u001b[32mINFO \u001b[39m Generated: \u001b[35marchives/2023/page/2/index.html\u001b[39m\n",
      "\u001b[32mINFO \u001b[39m Generated: \u001b[35marchives/2023/index.html\u001b[39m\n",
      "\u001b[32mINFO \u001b[39m Generated: \u001b[35mpage/2/index.html\u001b[39m\n",
      "\u001b[32mINFO \u001b[39m Generated: \u001b[35mindex.html\u001b[39m\n",
      "\u001b[32mINFO \u001b[39m Generated: \u001b[35mpage/3/index.html\u001b[39m\n",
      "\u001b[32mINFO \u001b[39m Generated: \u001b[35mpage/4/index.html\u001b[39m\n",
      "\u001b[32mINFO \u001b[39m Generated: \u001b[35mpost/23/3.png\u001b[39m\n",
      "\u001b[32mINFO \u001b[39m Generated: \u001b[35mpost/23/1.png\u001b[39m\n",
      "\u001b[32mINFO \u001b[39m Generated: \u001b[35mpost/23/2.png\u001b[39m\n",
      "\u001b[32mINFO \u001b[39m Generated: \u001b[35mpost/23/4.png\u001b[39m\n",
      "\u001b[32mINFO \u001b[39m 22 files generated in \u001b[36m2.77 s\u001b[39m\n"
     ]
    }
   ],
   "source": [
    "# 生成静态文件 - Generate static files\n",
    "!hexo generate"
   ]
  },
  {
   "cell_type": "code",
   "execution_count": 113,
   "metadata": {},
   "outputs": [],
   "source": [
    "# 本地预览 - Start the server and preview your site\n",
    "import webbrowser\n",
    "import subprocess\n",
    "import psutil\n",
    "import time\n",
    "\n",
    "\n",
    "def kill_process_on_port(port):\n",
    "    for proc in psutil.process_iter(['pid', 'name', 'connections']):\n",
    "        try:\n",
    "            for conn in proc.info['connections']:\n",
    "                if conn.laddr.port == port:\n",
    "                    proc.kill()\n",
    "                    # print(f'Process {proc.info[\"name\"]} {proc.pid} has been terminated.')\n",
    "        except (psutil.NoSuchProcess, psutil.AccessDenied):\n",
    "            continue\n",
    "\n",
    "\n",
    "webbrowser.open('http://localhost:4000', new=1)\n",
    "process = subprocess.Popen('hexo server', shell=True)\n",
    "try:\n",
    "    while True:\n",
    "        time.sleep(3)\n",
    "except KeyboardInterrupt:\n",
    "    kill_process_on_port(4000)\n"
   ]
  },
  {
   "cell_type": "code",
   "execution_count": 112,
   "metadata": {},
   "outputs": [
    {
     "name": "stderr",
     "output_type": "stream",
     "text": [
      "warning: in the working copy of '0_scripts.ipynb', LF will be replaced by CRLF the next time Git touches it\n"
     ]
    },
    {
     "name": "stdout",
     "output_type": "stream",
     "text": [
      "[main da874e4] Update\n",
      " 1 file changed, 11 insertions(+), 534 deletions(-)\n"
     ]
    },
    {
     "name": "stderr",
     "output_type": "stream",
     "text": [
      "To https://github.com/Tennisatw/blog.git\n",
      "   2aef6f8..da874e4  main -> main\n"
     ]
    }
   ],
   "source": [
    "# 部署到远程 - Deploy to remote sites\n",
    "!git add .\n",
    "!git commit -m \"Update\"\n",
    "!git push\n",
    "# !git push origin main --force"
   ]
  },
  {
   "cell_type": "code",
   "execution_count": null,
   "metadata": {},
   "outputs": [],
   "source": []
  },
  {
   "cell_type": "code",
   "execution_count": null,
   "metadata": {},
   "outputs": [],
   "source": []
  }
 ],
 "metadata": {
  "kernelspec": {
   "display_name": "base",
   "language": "python",
   "name": "python3"
  },
  "language_info": {
   "codemirror_mode": {
    "name": "ipython",
    "version": 3
   },
   "file_extension": ".py",
   "mimetype": "text/x-python",
   "name": "python",
   "nbconvert_exporter": "python",
   "pygments_lexer": "ipython3",
   "version": "3.11.7"
  }
 },
 "nbformat": 4,
 "nbformat_minor": 2
}
