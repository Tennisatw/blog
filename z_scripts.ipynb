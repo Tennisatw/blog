{
 "cells": [
  {
   "cell_type": "code",
   "execution_count": null,
   "metadata": {},
   "outputs": [],
   "source": [
    "# 新建文章 - Create a new post\n",
    "\n",
    "import re\n",
    "\n",
    "title = input()\n",
    "post_result = !hexo new post \"$title\"\n",
    "post_address = re.sub(r'\\x1b\\[[0-9;]*m', '', post_result[1].split(\":\", 1)[1].strip())\n",
    "\n",
    "with open(\"scripts/post_id.txt\", \"r\") as f: prev_post_id = f.read()\n",
    "this_post_id = str(int(prev_post_id) + 1)\n",
    "    \n",
    "with open(post_address, \"r+\") as f:\n",
    "    content = f.read().replace(\"post_id\", this_post_id)\n",
    "    f.seek(0)\n",
    "    f.write(content)\n",
    "\n",
    "with open(\"scripts/post_id.txt\", \"w\") as f: f.write(this_post_id)\n",
    "print(post_address)\n",
    "print(\"post id:\", this_post_id)\n"
   ]
  },
  {
   "cell_type": "code",
   "execution_count": null,
   "metadata": {},
   "outputs": [],
   "source": [
    "# 新建页面 - Create a new page\n",
    "title = input()\n",
    "!hexo new page \"$title\""
   ]
  },
  {
   "cell_type": "code",
   "execution_count": null,
   "metadata": {},
   "outputs": [],
   "source": [
    "# 生成-部署-清除 - Generate, deploy and clean\n",
    "\n",
    "from datetime import datetime\n",
    "import re\n",
    "\n",
    "now = datetime.now().strftime(\"%Y/%m/%d %H:%M:%S\")\n",
    "current_time = \"Update \" + now\n",
    "with open(\"themes/next/layout/_partials/footer.njk\", \"r\") as f: content = f.read()\n",
    "content = re.sub(r\"\\|\\|.*?\\|\\|\", \"||\" + now + \"||\", content)\n",
    "with open(\"themes/next/layout/_partials/footer.njk\", \"w\") as f: f.write(content)\n",
    "\n",
    "!hexo generate\n",
    "# !git rm --cached scripts/increment_id.txt\n",
    "!git add .\n",
    "!git commit -m \"$current_time\"\n",
    "!git push\n",
    "!hexo clean"
   ]
  },
  {
   "cell_type": "code",
   "execution_count": null,
   "metadata": {},
   "outputs": [],
   "source": [
    "# 本地预览 - Start the server and preview your site\n",
    "import webbrowser\n",
    "import subprocess\n",
    "import psutil\n",
    "import time\n",
    "\n",
    "\n",
    "def kill_process_on_port(port):\n",
    "    for proc in psutil.process_iter(['pid', 'name', 'connections']):\n",
    "        try:\n",
    "            for conn in proc.info['connections']:\n",
    "                if conn.laddr.port == port:\n",
    "                    proc.kill()\n",
    "        except (psutil.NoSuchProcess, psutil.AccessDenied):\n",
    "            continue\n",
    "\n",
    "process = subprocess.Popen('hexo server -p 5005', shell=True)\n",
    "webbrowser.open('http://localhost:5005', new=1)\n",
    "\n",
    "try:\n",
    "    while True:\n",
    "        time.sleep(3)\n",
    "except KeyboardInterrupt:\n",
    "    kill_process_on_port(5005)\n"
   ]
  },
  {
   "cell_type": "markdown",
   "metadata": {},
   "source": [
    "---"
   ]
  },
  {
   "cell_type": "code",
   "execution_count": null,
   "metadata": {},
   "outputs": [],
   "source": [
    "# 文章ID减1 - Decrement the article ID by 1\n",
    "with open(\"scripts/post_id.txt\", \"r\") as f:\n",
    "    post_id = f.read()\n",
    "    \n",
    "with open(\"scripts/post_id.txt\", \"w\") as f:\n",
    "    f.write(str(int(post_id) - 1))\n",
    "\n",
    "print(\"next id will be\", post_id)\n"
   ]
  },
  {
   "cell_type": "code",
   "execution_count": null,
   "metadata": {},
   "outputs": [],
   "source": [
    "# 生成静态文件 - Generate static files\n",
    "!hexo generate"
   ]
  },
  {
   "cell_type": "code",
   "execution_count": null,
   "metadata": {},
   "outputs": [],
   "source": [
    "# 部署到远程 - Deploy to remote sites\n",
    "from datetime import datetime\n",
    "\n",
    "now = datetime.now()\n",
    "current_time = \"Update \" + now.strftime(\"%Y/%m/%d %H:%M:%S\")\n",
    "\n",
    "!git add .\n",
    "!git commit -m \"$current_time\"\n",
    "!git push\n",
    "# !git push origin main --force"
   ]
  },
  {
   "cell_type": "code",
   "execution_count": null,
   "metadata": {},
   "outputs": [],
   "source": [
    "# 清除静态文件 - Clean static files\n",
    "!hexo clean"
   ]
  },
  {
   "cell_type": "code",
   "execution_count": null,
   "metadata": {},
   "outputs": [],
   "source": []
  }
 ],
 "metadata": {
  "kernelspec": {
   "display_name": "def",
   "language": "python",
   "name": "python3"
  },
  "language_info": {
   "codemirror_mode": {
    "name": "ipython",
    "version": 3
   },
   "file_extension": ".py",
   "mimetype": "text/x-python",
   "name": "python",
   "nbconvert_exporter": "python",
   "pygments_lexer": "ipython3",
   "version": "3.12.11"
  }
 },
 "nbformat": 4,
 "nbformat_minor": 2
}
